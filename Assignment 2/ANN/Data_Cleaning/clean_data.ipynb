{
 "cells": [
  {
   "cell_type": "markdown",
   "id": "bbd58c43f5a5d08b",
   "metadata": {
    "collapsed": false
   },
   "source": [
    "Import Packages"
   ]
  },
  {
   "cell_type": "code",
   "execution_count": null,
   "id": "cc1469e2a7f7668d",
   "metadata": {
    "collapsed": false
   },
   "outputs": [],
   "source": [
    "import pandas as pd\n",
    "import numpy as np\n",
    "from pyampute.exploration.mcar_statistical_tests import MCARTest\n",
    "from sklearn.impute import KNNImputer\n",
    "import scipy as sp"
   ]
  },
  {
   "cell_type": "markdown",
   "id": "4f38bd9173a263ba",
   "metadata": {
    "collapsed": false
   },
   "source": [
    "Read Data and format numbers"
   ]
  },
  {
   "cell_type": "code",
   "execution_count": null,
   "id": "3ff9f8b30f869751",
   "metadata": {
    "collapsed": false
   },
   "outputs": [],
   "source": [
    "columns=['Entity', 'Year', 'Access to electricity (% of population)', 'Access to clean fuels for cooking', 'Renewable-electricity-generating-capacity-per-capita', 'Financial flows to developing countries (US $)', 'Renewable energy share in the total final energy consumption (%)', 'Electricity from fossil fuels (TWh)', 'Electricity from nuclear (TWh)', 'Electricity from renewables (TWh)', 'Low-carbon electricity (% electricity)', 'Primary energy consumption per capita (kWh/person)', 'Energy intensity level of primary energy (MJ/$2017 PPP GDP)', 'Value_co2_emissions_kt_by_country', 'Renewables (% equivalent primary energy)', 'gdp_growth', 'gdp_per_capita', 'Density\\\\n(P/Km2)', 'Land Area(Km2)', 'Latitude', 'Longitude']\n",
    "\n",
    "def convert_to_float(value):\n",
    "    if isinstance(value, str) and ',' in value:\n",
    "        return float(value.replace(',', '.'))\n",
    "    return value\n",
    "\n",
    "data = pd.read_csv('./co2_emissions/emission_data.csv')\n",
    "pd.DataFrame(data)"
   ]
  },
  {
   "cell_type": "markdown",
   "id": "1b91ebd2382612be",
   "metadata": {
    "collapsed": false
   },
   "source": [
    "Determine the number of NaNs"
   ]
  },
  {
   "cell_type": "code",
   "execution_count": null,
   "id": "64a2f3a403433cc2",
   "metadata": {
    "collapsed": false
   },
   "outputs": [],
   "source": [
    "nan_counts = data.isna().sum() *100 / len(data)\n",
    "print(nan_counts)"
   ]
  },
  {
   "cell_type": "markdown",
   "id": "a157b8717c59149b",
   "metadata": {
    "collapsed": false
   },
   "source": []
  },
  {
   "cell_type": "markdown",
   "id": "ad12e7fb4d39144d",
   "metadata": {
    "collapsed": false
   },
   "source": [
    "Can MCAR Methods be used?"
   ]
  },
  {
   "cell_type": "code",
   "execution_count": null,
   "id": "4f7ee96885af5abd",
   "metadata": {
    "collapsed": false
   },
   "outputs": [],
   "source": [
    "data_no_countries = pd.read_table('./co2_emissions/emission_data_modified.csv', sep=',')\n",
    "mt = MCARTest(method=\"little\")\n",
    "if mt.little_mcar_test(data_no_countries) > 0.05:\n",
    "    print('Is MCAR')\n",
    "else:\n",
    "    print('Not MCAR')"
   ]
  },
  {
   "cell_type": "markdown",
   "id": "84bf80ef125991b5",
   "metadata": {
    "collapsed": false
   },
   "source": [
    "Data is not MCAR so KNN can't really be used, but it can be a solution to try with the dataset anyways"
   ]
  },
  {
   "cell_type": "code",
   "execution_count": null,
   "id": "20b680a7bfcf7164",
   "metadata": {
    "collapsed": false
   },
   "outputs": [],
   "source": [
    "knn_imputer = KNNImputer(n_neighbors=1)\n",
    "imputed_data = knn_imputer.fit_transform(data_no_countries)\n",
    "pd.DataFrame(imputed_data, columns=columns[2:])"
   ]
  },
  {
   "cell_type": "markdown",
   "source": [
    "Pipeline v2\n",
    "Because intellij lost all my code :(("
   ],
   "metadata": {
    "collapsed": false
   },
   "id": "860d8ed94825fb12"
  },
  {
   "cell_type": "markdown",
   "source": [
    "Set all groups with all NaNs to 0"
   ],
   "metadata": {
    "collapsed": false
   },
   "id": "a5a5f5cbb45510ea"
  },
  {
   "cell_type": "code",
   "execution_count": null,
   "outputs": [],
   "source": [
    "groups_with_all_nans = data.groupby(\"Entity\").apply(lambda grp: grp.isna().all())\n",
    "for grp in groups_with_all_nans:\n",
    "    print(grp)\n",
    "    # if groups_with_all_nans[grp[0], grp[1]]:\n",
    "    #     data.loc[grp[0], grp[1]] = 0"
   ],
   "metadata": {
    "collapsed": false
   },
   "id": "ab4cf40da95d7d9d"
  },
  {
   "cell_type": "markdown",
   "source": [
    "Count the number of zeros"
   ],
   "metadata": {
    "collapsed": false
   },
   "id": "e799f6da6f3d4ca0"
  },
  {
   "cell_type": "code",
   "execution_count": null,
   "outputs": [],
   "source": [
    "num_zeros = (data == 0).sum()*100 / len(data)\n",
    "print(num_zeros)"
   ],
   "metadata": {
    "collapsed": false
   },
   "id": "8c67ae1ba0add28"
  },
  {
   "cell_type": "markdown",
   "source": [
    "Remove Columns with more than 20% zeros as they cannot be good reference for the entire set"
   ],
   "metadata": {
    "collapsed": false
   },
   "id": "3c5e7e50eb6493f3"
  },
  {
   "cell_type": "code",
   "execution_count": null,
   "outputs": [],
   "source": [
    "data.drop('Electricity from nuclear (TWh)', axis=1)\n",
    "pd.DataFrame(data)"
   ],
   "metadata": {
    "collapsed": false
   },
   "id": "8fab233589876f5"
  }
 ],
 "metadata": {
  "kernelspec": {
   "display_name": "Python 3",
   "language": "python",
   "name": "python3"
  },
  "language_info": {
   "codemirror_mode": {
    "name": "ipython",
    "version": 3
   },
   "file_extension": ".py",
   "mimetype": "text/x-python",
   "name": "python",
   "nbconvert_exporter": "python",
   "pygments_lexer": "ipython3",
   "version": "3.11.0"
  }
 },
 "nbformat": 4,
 "nbformat_minor": 5
}
