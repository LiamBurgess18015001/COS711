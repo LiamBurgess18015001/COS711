{
 "cells": [
  {
   "cell_type": "markdown",
   "id": "bbd58c43f5a5d08b",
   "metadata": {
    "collapsed": false
   },
   "source": [
    "Import Packages"
   ]
  },
  {
   "cell_type": "code",
   "execution_count": 2,
   "id": "cc1469e2a7f7668d",
   "metadata": {
    "collapsed": false,
    "ExecuteTime": {
     "end_time": "2023-09-10T13:50:58.162490900Z",
     "start_time": "2023-09-10T13:50:57.206568800Z"
    }
   },
   "outputs": [],
   "source": [
    "import pandas as pd\n",
    "import numpy as np\n",
    "from pyampute.exploration.mcar_statistical_tests import MCARTest\n",
    "from sklearn.impute import KNNImputer\n",
    "import scipy as sp"
   ]
  },
  {
   "cell_type": "markdown",
   "id": "4f38bd9173a263ba",
   "metadata": {
    "collapsed": false
   },
   "source": [
    "Read Data and format numbers"
   ]
  },
  {
   "cell_type": "code",
   "execution_count": 3,
   "id": "3ff9f8b30f869751",
   "metadata": {
    "collapsed": false,
    "ExecuteTime": {
     "end_time": "2023-09-10T13:50:58.194199Z",
     "start_time": "2023-09-10T13:50:58.163575600Z"
    }
   },
   "outputs": [
    {
     "data": {
      "text/plain": "           Entity  Year  Access to electricity (% of population)   \n0     Afghanistan  2000                                     1.61  \\\n1     Afghanistan  2001                                     4.07   \n2     Afghanistan  2002                                     9.41   \n3     Afghanistan  2003                                    14.74   \n4     Afghanistan  2004                                    20.06   \n...           ...   ...                                      ...   \n3644     Zimbabwe  2016                                    42.56   \n3645     Zimbabwe  2017                                    44.18   \n3646     Zimbabwe  2018                                    45.57   \n3647     Zimbabwe  2019                                    46.78   \n3648     Zimbabwe  2020                                    52.75   \n\n      Access to clean fuels for cooking   \n0                                   6.2  \\\n1                                   7.2   \n2                                   8.2   \n3                                   9.5   \n4                                  10.9   \n...                                 ...   \n3644                               29.8   \n3645                               29.8   \n3646                               29.9   \n3647                               30.1   \n3648                               30.4   \n\n      Renewable-electricity-generating-capacity-per-capita   \n0                                                  9.22     \\\n1                                                  8.86      \n2                                                  8.47      \n3                                                  8.09      \n4                                                  7.75      \n...                                                 ...      \n3644                                              62.88      \n3645                                              62.33      \n3646                                              82.53      \n3647                                              81.40      \n3648                                              80.61      \n\n      Financial flows to developing countries (US $)   \n0                                            20000.0  \\\n1                                           130000.0   \n2                                          3950000.0   \n3                                         25970000.0   \n4                                                NaN   \n...                                              ...   \n3644                                         30000.0   \n3645                                       5570000.0   \n3646                                         10000.0   \n3647                                        250000.0   \n3648                                         30000.0   \n\n      Renewable energy share in the total final energy consumption (%)   \n0                                                 44.99                 \\\n1                                                 45.60                  \n2                                                 37.83                  \n3                                                 36.66                  \n4                                                 44.24                  \n...                                                 ...                  \n3644                                              81.90                  \n3645                                              82.46                  \n3646                                              80.23                  \n3647                                              81.50                  \n3648                                              81.90                  \n\n      Electricity from fossil fuels (TWh)  Electricity from nuclear (TWh)   \n0                                    0.16                             0.0  \\\n1                                    0.09                             0.0   \n2                                    0.13                             0.0   \n3                                    0.31                             0.0   \n4                                    0.33                             0.0   \n...                                   ...                             ...   \n3644                                 3.50                             0.0   \n3645                                 3.05                             0.0   \n3646                                 3.73                             0.0   \n3647                                 3.66                             0.0   \n3648                                 3.40                             0.0   \n\n      Electricity from renewables (TWh)  ...   \n0                                  0.31  ...  \\\n1                                  0.50  ...   \n2                                  0.56  ...   \n3                                  0.63  ...   \n4                                  0.56  ...   \n...                                 ...  ...   \n3644                               3.32  ...   \n3645                               4.30  ...   \n3646                               5.46  ...   \n3647                               4.58  ...   \n3648                               4.19  ...   \n\n      Primary energy consumption per capita (kWh/person)   \n0                                                302.59   \\\n1                                                236.89    \n2                                                210.86    \n3                                                229.97    \n4                                                204.23    \n...                                                 ...    \n3644                                            3227.68    \n3645                                            3068.01    \n3646                                            3441.99    \n3647                                            3003.66    \n3648                                            2680.13    \n\n      Energy intensity level of primary energy (MJ/$2017 PPP GDP)   \n0                                                  1.64            \\\n1                                                  1.74             \n2                                                  1.40             \n3                                                  1.40             \n4                                                  1.20             \n...                                                 ...             \n3644                                              10.00             \n3645                                               9.51             \n3646                                               9.83             \n3647                                              10.47             \n3648                                              10.00             \n\n      Value_co2_emissions_kt_by_country   \n0                                 760.0  \\\n1                                 730.0   \n2                                1030.0   \n3                                1220.0   \n4                                1030.0   \n...                                 ...   \n3644                            11020.0   \n3645                            10340.0   \n3646                            12380.0   \n3647                            11760.0   \n3648                                NaN   \n\n      Renewables (% equivalent primary energy)  gdp_growth  gdp_per_capita   \n0                                          NaN         NaN             NaN  \\\n1                                          NaN         NaN             NaN   \n2                                          NaN         NaN          179.43   \n3                                          NaN        8.83          190.68   \n4                                          NaN        1.41          211.38   \n...                                        ...         ...             ...   \n3644                                       NaN        0.76         1464.59   \n3645                                       NaN        4.71         1235.19   \n3646                                       NaN        4.82         1254.64   \n3647                                       NaN       -6.14         1316.74   \n3648                                       NaN       -6.25         1214.51   \n\n      Density\\n(P/Km2)  Land Area(Km2)   Latitude  Longitude  \n0                 60.0        652230.0  33.939110  67.709953  \n1                 60.0        652230.0  33.939110  67.709953  \n2                 60.0        652230.0  33.939110  67.709953  \n3                 60.0        652230.0  33.939110  67.709953  \n4                 60.0        652230.0  33.939110  67.709953  \n...                ...             ...        ...        ...  \n3644              38.0        390757.0 -19.015438  29.154857  \n3645              38.0        390757.0 -19.015438  29.154857  \n3646              38.0        390757.0 -19.015438  29.154857  \n3647              38.0        390757.0 -19.015438  29.154857  \n3648              38.0        390757.0 -19.015438  29.154857  \n\n[3649 rows x 21 columns]",
      "text/html": "<div>\n<style scoped>\n    .dataframe tbody tr th:only-of-type {\n        vertical-align: middle;\n    }\n\n    .dataframe tbody tr th {\n        vertical-align: top;\n    }\n\n    .dataframe thead th {\n        text-align: right;\n    }\n</style>\n<table border=\"1\" class=\"dataframe\">\n  <thead>\n    <tr style=\"text-align: right;\">\n      <th></th>\n      <th>Entity</th>\n      <th>Year</th>\n      <th>Access to electricity (% of population)</th>\n      <th>Access to clean fuels for cooking</th>\n      <th>Renewable-electricity-generating-capacity-per-capita</th>\n      <th>Financial flows to developing countries (US $)</th>\n      <th>Renewable energy share in the total final energy consumption (%)</th>\n      <th>Electricity from fossil fuels (TWh)</th>\n      <th>Electricity from nuclear (TWh)</th>\n      <th>Electricity from renewables (TWh)</th>\n      <th>...</th>\n      <th>Primary energy consumption per capita (kWh/person)</th>\n      <th>Energy intensity level of primary energy (MJ/$2017 PPP GDP)</th>\n      <th>Value_co2_emissions_kt_by_country</th>\n      <th>Renewables (% equivalent primary energy)</th>\n      <th>gdp_growth</th>\n      <th>gdp_per_capita</th>\n      <th>Density\\n(P/Km2)</th>\n      <th>Land Area(Km2)</th>\n      <th>Latitude</th>\n      <th>Longitude</th>\n    </tr>\n  </thead>\n  <tbody>\n    <tr>\n      <th>0</th>\n      <td>Afghanistan</td>\n      <td>2000</td>\n      <td>1.61</td>\n      <td>6.2</td>\n      <td>9.22</td>\n      <td>20000.0</td>\n      <td>44.99</td>\n      <td>0.16</td>\n      <td>0.0</td>\n      <td>0.31</td>\n      <td>...</td>\n      <td>302.59</td>\n      <td>1.64</td>\n      <td>760.0</td>\n      <td>NaN</td>\n      <td>NaN</td>\n      <td>NaN</td>\n      <td>60.0</td>\n      <td>652230.0</td>\n      <td>33.939110</td>\n      <td>67.709953</td>\n    </tr>\n    <tr>\n      <th>1</th>\n      <td>Afghanistan</td>\n      <td>2001</td>\n      <td>4.07</td>\n      <td>7.2</td>\n      <td>8.86</td>\n      <td>130000.0</td>\n      <td>45.60</td>\n      <td>0.09</td>\n      <td>0.0</td>\n      <td>0.50</td>\n      <td>...</td>\n      <td>236.89</td>\n      <td>1.74</td>\n      <td>730.0</td>\n      <td>NaN</td>\n      <td>NaN</td>\n      <td>NaN</td>\n      <td>60.0</td>\n      <td>652230.0</td>\n      <td>33.939110</td>\n      <td>67.709953</td>\n    </tr>\n    <tr>\n      <th>2</th>\n      <td>Afghanistan</td>\n      <td>2002</td>\n      <td>9.41</td>\n      <td>8.2</td>\n      <td>8.47</td>\n      <td>3950000.0</td>\n      <td>37.83</td>\n      <td>0.13</td>\n      <td>0.0</td>\n      <td>0.56</td>\n      <td>...</td>\n      <td>210.86</td>\n      <td>1.40</td>\n      <td>1030.0</td>\n      <td>NaN</td>\n      <td>NaN</td>\n      <td>179.43</td>\n      <td>60.0</td>\n      <td>652230.0</td>\n      <td>33.939110</td>\n      <td>67.709953</td>\n    </tr>\n    <tr>\n      <th>3</th>\n      <td>Afghanistan</td>\n      <td>2003</td>\n      <td>14.74</td>\n      <td>9.5</td>\n      <td>8.09</td>\n      <td>25970000.0</td>\n      <td>36.66</td>\n      <td>0.31</td>\n      <td>0.0</td>\n      <td>0.63</td>\n      <td>...</td>\n      <td>229.97</td>\n      <td>1.40</td>\n      <td>1220.0</td>\n      <td>NaN</td>\n      <td>8.83</td>\n      <td>190.68</td>\n      <td>60.0</td>\n      <td>652230.0</td>\n      <td>33.939110</td>\n      <td>67.709953</td>\n    </tr>\n    <tr>\n      <th>4</th>\n      <td>Afghanistan</td>\n      <td>2004</td>\n      <td>20.06</td>\n      <td>10.9</td>\n      <td>7.75</td>\n      <td>NaN</td>\n      <td>44.24</td>\n      <td>0.33</td>\n      <td>0.0</td>\n      <td>0.56</td>\n      <td>...</td>\n      <td>204.23</td>\n      <td>1.20</td>\n      <td>1030.0</td>\n      <td>NaN</td>\n      <td>1.41</td>\n      <td>211.38</td>\n      <td>60.0</td>\n      <td>652230.0</td>\n      <td>33.939110</td>\n      <td>67.709953</td>\n    </tr>\n    <tr>\n      <th>...</th>\n      <td>...</td>\n      <td>...</td>\n      <td>...</td>\n      <td>...</td>\n      <td>...</td>\n      <td>...</td>\n      <td>...</td>\n      <td>...</td>\n      <td>...</td>\n      <td>...</td>\n      <td>...</td>\n      <td>...</td>\n      <td>...</td>\n      <td>...</td>\n      <td>...</td>\n      <td>...</td>\n      <td>...</td>\n      <td>...</td>\n      <td>...</td>\n      <td>...</td>\n      <td>...</td>\n    </tr>\n    <tr>\n      <th>3644</th>\n      <td>Zimbabwe</td>\n      <td>2016</td>\n      <td>42.56</td>\n      <td>29.8</td>\n      <td>62.88</td>\n      <td>30000.0</td>\n      <td>81.90</td>\n      <td>3.50</td>\n      <td>0.0</td>\n      <td>3.32</td>\n      <td>...</td>\n      <td>3227.68</td>\n      <td>10.00</td>\n      <td>11020.0</td>\n      <td>NaN</td>\n      <td>0.76</td>\n      <td>1464.59</td>\n      <td>38.0</td>\n      <td>390757.0</td>\n      <td>-19.015438</td>\n      <td>29.154857</td>\n    </tr>\n    <tr>\n      <th>3645</th>\n      <td>Zimbabwe</td>\n      <td>2017</td>\n      <td>44.18</td>\n      <td>29.8</td>\n      <td>62.33</td>\n      <td>5570000.0</td>\n      <td>82.46</td>\n      <td>3.05</td>\n      <td>0.0</td>\n      <td>4.30</td>\n      <td>...</td>\n      <td>3068.01</td>\n      <td>9.51</td>\n      <td>10340.0</td>\n      <td>NaN</td>\n      <td>4.71</td>\n      <td>1235.19</td>\n      <td>38.0</td>\n      <td>390757.0</td>\n      <td>-19.015438</td>\n      <td>29.154857</td>\n    </tr>\n    <tr>\n      <th>3646</th>\n      <td>Zimbabwe</td>\n      <td>2018</td>\n      <td>45.57</td>\n      <td>29.9</td>\n      <td>82.53</td>\n      <td>10000.0</td>\n      <td>80.23</td>\n      <td>3.73</td>\n      <td>0.0</td>\n      <td>5.46</td>\n      <td>...</td>\n      <td>3441.99</td>\n      <td>9.83</td>\n      <td>12380.0</td>\n      <td>NaN</td>\n      <td>4.82</td>\n      <td>1254.64</td>\n      <td>38.0</td>\n      <td>390757.0</td>\n      <td>-19.015438</td>\n      <td>29.154857</td>\n    </tr>\n    <tr>\n      <th>3647</th>\n      <td>Zimbabwe</td>\n      <td>2019</td>\n      <td>46.78</td>\n      <td>30.1</td>\n      <td>81.40</td>\n      <td>250000.0</td>\n      <td>81.50</td>\n      <td>3.66</td>\n      <td>0.0</td>\n      <td>4.58</td>\n      <td>...</td>\n      <td>3003.66</td>\n      <td>10.47</td>\n      <td>11760.0</td>\n      <td>NaN</td>\n      <td>-6.14</td>\n      <td>1316.74</td>\n      <td>38.0</td>\n      <td>390757.0</td>\n      <td>-19.015438</td>\n      <td>29.154857</td>\n    </tr>\n    <tr>\n      <th>3648</th>\n      <td>Zimbabwe</td>\n      <td>2020</td>\n      <td>52.75</td>\n      <td>30.4</td>\n      <td>80.61</td>\n      <td>30000.0</td>\n      <td>81.90</td>\n      <td>3.40</td>\n      <td>0.0</td>\n      <td>4.19</td>\n      <td>...</td>\n      <td>2680.13</td>\n      <td>10.00</td>\n      <td>NaN</td>\n      <td>NaN</td>\n      <td>-6.25</td>\n      <td>1214.51</td>\n      <td>38.0</td>\n      <td>390757.0</td>\n      <td>-19.015438</td>\n      <td>29.154857</td>\n    </tr>\n  </tbody>\n</table>\n<p>3649 rows × 21 columns</p>\n</div>"
     },
     "execution_count": 3,
     "metadata": {},
     "output_type": "execute_result"
    }
   ],
   "source": [
    "columns = ['Entity', 'Year', 'Access to electricity (% of population)', 'Access to clean fuels for cooking',\n",
    "           'Renewable-electricity-generating-capacity-per-capita', 'Financial flows to developing countries (US $)',\n",
    "           'Renewable energy share in the total final energy consumption (%)', 'Electricity from fossil fuels (TWh)',\n",
    "           'Electricity from nuclear (TWh)', 'Electricity from renewables (TWh)',\n",
    "           'Low-carbon electricity (% electricity)', 'Primary energy consumption per capita (kWh/person)',\n",
    "           'Energy intensity level of primary energy (MJ/$2017 PPP GDP)', 'Value_co2_emissions_kt_by_country',\n",
    "           'Renewables (% equivalent primary energy)', 'gdp_growth', 'gdp_per_capita', 'Density\\\\n(P/Km2)',\n",
    "           'Land Area(Km2)', 'Latitude', 'Longitude']\n",
    "\n",
    "\n",
    "def convert_to_float(value):\n",
    "    if isinstance(value, str) and ',' in value:\n",
    "        return float(value.replace(',', '.'))\n",
    "    return value\n",
    "\n",
    "\n",
    "data = pd.read_csv('./co2_emissions/emission_data.csv')\n",
    "pd.DataFrame(data)"
   ]
  },
  {
   "cell_type": "markdown",
   "id": "1b91ebd2382612be",
   "metadata": {
    "collapsed": false
   },
   "source": [
    "Determine the number of NaNs"
   ]
  },
  {
   "cell_type": "code",
   "execution_count": 4,
   "id": "64a2f3a403433cc2",
   "metadata": {
    "collapsed": false,
    "ExecuteTime": {
     "end_time": "2023-09-10T13:50:58.204235300Z",
     "start_time": "2023-09-10T13:50:58.195198300Z"
    }
   },
   "outputs": [
    {
     "name": "stdout",
     "output_type": "stream",
     "text": [
      "Entity                                                               0.000000\n",
      "Year                                                                 0.000000\n",
      "Access to electricity (% of population)                              0.274048\n",
      "Access to clean fuels for cooking                                    4.631406\n",
      "Renewable-electricity-generating-capacity-per-capita                25.513839\n",
      "Financial flows to developing countries (US $)                      57.248561\n",
      "Renewable energy share in the total final energy consumption (%)     5.316525\n",
      "Electricity from fossil fuels (TWh)                                  0.575500\n",
      "Electricity from nuclear (TWh)                                       3.453001\n",
      "Electricity from renewables (TWh)                                    0.575500\n",
      "Low-carbon electricity (% electricity)                               1.151000\n",
      "Primary energy consumption per capita (kWh/person)                   0.000000\n",
      "Energy intensity level of primary energy (MJ/$2017 PPP GDP)          5.672787\n",
      "Value_co2_emissions_kt_by_country                                   11.729241\n",
      "Renewables (% equivalent primary energy)                            58.563990\n",
      "gdp_growth                                                           8.687312\n",
      "gdp_per_capita                                                       7.728145\n",
      "Density\\n(P/Km2)                                                     0.027405\n",
      "Land Area(Km2)                                                       0.027405\n",
      "Latitude                                                             0.027405\n",
      "Longitude                                                            0.027405\n",
      "dtype: float64\n"
     ]
    }
   ],
   "source": [
    "nan_counts = data.isna().sum() * 100 / len(data)\n",
    "print(nan_counts)"
   ]
  },
  {
   "cell_type": "markdown",
   "id": "a157b8717c59149b",
   "metadata": {
    "collapsed": false
   },
   "source": []
  },
  {
   "cell_type": "markdown",
   "id": "ad12e7fb4d39144d",
   "metadata": {
    "collapsed": false
   },
   "source": [
    "Can MCAR Methods be used?"
   ]
  },
  {
   "cell_type": "code",
   "execution_count": 5,
   "id": "4f7ee96885af5abd",
   "metadata": {
    "collapsed": false,
    "ExecuteTime": {
     "end_time": "2023-09-10T13:50:58.377643100Z",
     "start_time": "2023-09-10T13:50:58.203237200Z"
    }
   },
   "outputs": [
    {
     "name": "stdout",
     "output_type": "stream",
     "text": [
      "Not MCAR\n"
     ]
    }
   ],
   "source": [
    "data_no_countries = pd.read_table('./co2_emissions/emission_data_modified.csv', sep=',')\n",
    "mt = MCARTest(method=\"little\")\n",
    "if mt.little_mcar_test(data_no_countries) > 0.05:\n",
    "    print('Is MCAR')\n",
    "else:\n",
    "    print('Not MCAR')"
   ]
  },
  {
   "cell_type": "markdown",
   "id": "84bf80ef125991b5",
   "metadata": {
    "collapsed": false
   },
   "source": [
    "Data is not MCAR so KNN can't really be used, but it can be a solution to try with the dataset anyways"
   ]
  },
  {
   "cell_type": "code",
   "execution_count": 6,
   "id": "20b680a7bfcf7164",
   "metadata": {
    "collapsed": false,
    "ExecuteTime": {
     "end_time": "2023-09-10T13:50:59.083621500Z",
     "start_time": "2023-09-10T13:50:58.370944Z"
    }
   },
   "outputs": [
    {
     "data": {
      "text/plain": "      Access to electricity (% of population)   \n0                                        1.61  \\\n1                                        4.07   \n2                                        9.41   \n3                                       14.74   \n4                                       20.06   \n...                                       ...   \n3644                                    42.56   \n3645                                    44.18   \n3646                                    45.57   \n3647                                    46.78   \n3648                                    52.75   \n\n      Access to clean fuels for cooking   \n0                                   6.2  \\\n1                                   7.2   \n2                                   8.2   \n3                                   9.5   \n4                                  10.9   \n...                                 ...   \n3644                               29.8   \n3645                               29.8   \n3646                               29.9   \n3647                               30.1   \n3648                               30.4   \n\n      Renewable-electricity-generating-capacity-per-capita   \n0                                                  9.22     \\\n1                                                  8.86      \n2                                                  8.47      \n3                                                  8.09      \n4                                                  7.75      \n...                                                 ...      \n3644                                              62.88      \n3645                                              62.33      \n3646                                              82.53      \n3647                                              81.40      \n3648                                              80.61      \n\n      Financial flows to developing countries (US $)   \n0                                            20000.0  \\\n1                                           130000.0   \n2                                          3950000.0   \n3                                         25970000.0   \n4                                          3950000.0   \n...                                              ...   \n3644                                         30000.0   \n3645                                       5570000.0   \n3646                                         10000.0   \n3647                                        250000.0   \n3648                                         30000.0   \n\n      Renewable energy share in the total final energy consumption (%)   \n0                                                 44.99                 \\\n1                                                 45.60                  \n2                                                 37.83                  \n3                                                 36.66                  \n4                                                 44.24                  \n...                                                 ...                  \n3644                                              81.90                  \n3645                                              82.46                  \n3646                                              80.23                  \n3647                                              81.50                  \n3648                                              81.90                  \n\n      Electricity from fossil fuels (TWh)  Electricity from nuclear (TWh)   \n0                                    0.16                             0.0  \\\n1                                    0.09                             0.0   \n2                                    0.13                             0.0   \n3                                    0.31                             0.0   \n4                                    0.33                             0.0   \n...                                   ...                             ...   \n3644                                 3.50                             0.0   \n3645                                 3.05                             0.0   \n3646                                 3.73                             0.0   \n3647                                 3.66                             0.0   \n3648                                 3.40                             0.0   \n\n      Electricity from renewables (TWh)   \n0                                  0.31  \\\n1                                  0.50   \n2                                  0.56   \n3                                  0.63   \n4                                  0.56   \n...                                 ...   \n3644                               3.32   \n3645                               4.30   \n3646                               5.46   \n3647                               4.58   \n3648                               4.19   \n\n      Low-carbon electricity (% electricity)   \n0                                      65.96  \\\n1                                      84.75   \n2                                      81.16   \n3                                      67.02   \n4                                      62.92   \n...                                      ...   \n3644                                   48.68   \n3645                                   58.50   \n3646                                   59.41   \n3647                                   55.58   \n3648                                   55.20   \n\n      Primary energy consumption per capita (kWh/person)   \n0                                                302.59   \\\n1                                                236.89    \n2                                                210.86    \n3                                                229.97    \n4                                                204.23    \n...                                                 ...    \n3644                                            3227.68    \n3645                                            3068.01    \n3646                                            3441.99    \n3647                                            3003.66    \n3648                                            2680.13    \n\n      Energy intensity level of primary energy (MJ/$2017 PPP GDP)   \n0                                                  1.64            \\\n1                                                  1.74             \n2                                                  1.40             \n3                                                  1.40             \n4                                                  1.20             \n...                                                 ...             \n3644                                              10.00             \n3645                                               9.51             \n3646                                               9.83             \n3647                                              10.47             \n3648                                              10.00             \n\n      Value_co2_emissions_kt_by_country   \n0                                 760.0  \\\n1                                 730.0   \n2                                1030.0   \n3                                1220.0   \n4                                1030.0   \n...                                 ...   \n3644                            11020.0   \n3645                            10340.0   \n3646                            12380.0   \n3647                            11760.0   \n3648                            11020.0   \n\n      Renewables (% equivalent primary energy)  gdp_growth  gdp_per_capita   \n0                                        14.79        1.41          211.38  \\\n1                                        14.79        1.41          211.38   \n2                                         4.90        1.41          179.43   \n3                                         4.90        8.83          190.68   \n4                                         4.90        1.41          211.38   \n...                                        ...         ...             ...   \n3644                                      1.65        0.76         1464.59   \n3645                                      1.65        4.71         1235.19   \n3646                                      1.65        4.82         1254.64   \n3647                                      1.65       -6.14         1316.74   \n3648                                      4.54       -6.25         1214.51   \n\n      Density\\n(P/Km2)  Land Area(Km2)  Latitude  Longitude  \n0                 60.0        652230.0     33.94      67.71  \n1                 60.0        652230.0     33.94      67.71  \n2                 60.0        652230.0     33.94      67.71  \n3                 60.0        652230.0     33.94      67.71  \n4                 60.0        652230.0     33.94      67.71  \n...                ...             ...       ...        ...  \n3644              38.0        390757.0    -19.02      29.15  \n3645              38.0        390757.0    -19.02      29.15  \n3646              38.0        390757.0    -19.02      29.15  \n3647              38.0        390757.0    -19.02      29.15  \n3648              38.0        390757.0    -19.02      29.15  \n\n[3649 rows x 19 columns]",
      "text/html": "<div>\n<style scoped>\n    .dataframe tbody tr th:only-of-type {\n        vertical-align: middle;\n    }\n\n    .dataframe tbody tr th {\n        vertical-align: top;\n    }\n\n    .dataframe thead th {\n        text-align: right;\n    }\n</style>\n<table border=\"1\" class=\"dataframe\">\n  <thead>\n    <tr style=\"text-align: right;\">\n      <th></th>\n      <th>Access to electricity (% of population)</th>\n      <th>Access to clean fuels for cooking</th>\n      <th>Renewable-electricity-generating-capacity-per-capita</th>\n      <th>Financial flows to developing countries (US $)</th>\n      <th>Renewable energy share in the total final energy consumption (%)</th>\n      <th>Electricity from fossil fuels (TWh)</th>\n      <th>Electricity from nuclear (TWh)</th>\n      <th>Electricity from renewables (TWh)</th>\n      <th>Low-carbon electricity (% electricity)</th>\n      <th>Primary energy consumption per capita (kWh/person)</th>\n      <th>Energy intensity level of primary energy (MJ/$2017 PPP GDP)</th>\n      <th>Value_co2_emissions_kt_by_country</th>\n      <th>Renewables (% equivalent primary energy)</th>\n      <th>gdp_growth</th>\n      <th>gdp_per_capita</th>\n      <th>Density\\n(P/Km2)</th>\n      <th>Land Area(Km2)</th>\n      <th>Latitude</th>\n      <th>Longitude</th>\n    </tr>\n  </thead>\n  <tbody>\n    <tr>\n      <th>0</th>\n      <td>1.61</td>\n      <td>6.2</td>\n      <td>9.22</td>\n      <td>20000.0</td>\n      <td>44.99</td>\n      <td>0.16</td>\n      <td>0.0</td>\n      <td>0.31</td>\n      <td>65.96</td>\n      <td>302.59</td>\n      <td>1.64</td>\n      <td>760.0</td>\n      <td>14.79</td>\n      <td>1.41</td>\n      <td>211.38</td>\n      <td>60.0</td>\n      <td>652230.0</td>\n      <td>33.94</td>\n      <td>67.71</td>\n    </tr>\n    <tr>\n      <th>1</th>\n      <td>4.07</td>\n      <td>7.2</td>\n      <td>8.86</td>\n      <td>130000.0</td>\n      <td>45.60</td>\n      <td>0.09</td>\n      <td>0.0</td>\n      <td>0.50</td>\n      <td>84.75</td>\n      <td>236.89</td>\n      <td>1.74</td>\n      <td>730.0</td>\n      <td>14.79</td>\n      <td>1.41</td>\n      <td>211.38</td>\n      <td>60.0</td>\n      <td>652230.0</td>\n      <td>33.94</td>\n      <td>67.71</td>\n    </tr>\n    <tr>\n      <th>2</th>\n      <td>9.41</td>\n      <td>8.2</td>\n      <td>8.47</td>\n      <td>3950000.0</td>\n      <td>37.83</td>\n      <td>0.13</td>\n      <td>0.0</td>\n      <td>0.56</td>\n      <td>81.16</td>\n      <td>210.86</td>\n      <td>1.40</td>\n      <td>1030.0</td>\n      <td>4.90</td>\n      <td>1.41</td>\n      <td>179.43</td>\n      <td>60.0</td>\n      <td>652230.0</td>\n      <td>33.94</td>\n      <td>67.71</td>\n    </tr>\n    <tr>\n      <th>3</th>\n      <td>14.74</td>\n      <td>9.5</td>\n      <td>8.09</td>\n      <td>25970000.0</td>\n      <td>36.66</td>\n      <td>0.31</td>\n      <td>0.0</td>\n      <td>0.63</td>\n      <td>67.02</td>\n      <td>229.97</td>\n      <td>1.40</td>\n      <td>1220.0</td>\n      <td>4.90</td>\n      <td>8.83</td>\n      <td>190.68</td>\n      <td>60.0</td>\n      <td>652230.0</td>\n      <td>33.94</td>\n      <td>67.71</td>\n    </tr>\n    <tr>\n      <th>4</th>\n      <td>20.06</td>\n      <td>10.9</td>\n      <td>7.75</td>\n      <td>3950000.0</td>\n      <td>44.24</td>\n      <td>0.33</td>\n      <td>0.0</td>\n      <td>0.56</td>\n      <td>62.92</td>\n      <td>204.23</td>\n      <td>1.20</td>\n      <td>1030.0</td>\n      <td>4.90</td>\n      <td>1.41</td>\n      <td>211.38</td>\n      <td>60.0</td>\n      <td>652230.0</td>\n      <td>33.94</td>\n      <td>67.71</td>\n    </tr>\n    <tr>\n      <th>...</th>\n      <td>...</td>\n      <td>...</td>\n      <td>...</td>\n      <td>...</td>\n      <td>...</td>\n      <td>...</td>\n      <td>...</td>\n      <td>...</td>\n      <td>...</td>\n      <td>...</td>\n      <td>...</td>\n      <td>...</td>\n      <td>...</td>\n      <td>...</td>\n      <td>...</td>\n      <td>...</td>\n      <td>...</td>\n      <td>...</td>\n      <td>...</td>\n    </tr>\n    <tr>\n      <th>3644</th>\n      <td>42.56</td>\n      <td>29.8</td>\n      <td>62.88</td>\n      <td>30000.0</td>\n      <td>81.90</td>\n      <td>3.50</td>\n      <td>0.0</td>\n      <td>3.32</td>\n      <td>48.68</td>\n      <td>3227.68</td>\n      <td>10.00</td>\n      <td>11020.0</td>\n      <td>1.65</td>\n      <td>0.76</td>\n      <td>1464.59</td>\n      <td>38.0</td>\n      <td>390757.0</td>\n      <td>-19.02</td>\n      <td>29.15</td>\n    </tr>\n    <tr>\n      <th>3645</th>\n      <td>44.18</td>\n      <td>29.8</td>\n      <td>62.33</td>\n      <td>5570000.0</td>\n      <td>82.46</td>\n      <td>3.05</td>\n      <td>0.0</td>\n      <td>4.30</td>\n      <td>58.50</td>\n      <td>3068.01</td>\n      <td>9.51</td>\n      <td>10340.0</td>\n      <td>1.65</td>\n      <td>4.71</td>\n      <td>1235.19</td>\n      <td>38.0</td>\n      <td>390757.0</td>\n      <td>-19.02</td>\n      <td>29.15</td>\n    </tr>\n    <tr>\n      <th>3646</th>\n      <td>45.57</td>\n      <td>29.9</td>\n      <td>82.53</td>\n      <td>10000.0</td>\n      <td>80.23</td>\n      <td>3.73</td>\n      <td>0.0</td>\n      <td>5.46</td>\n      <td>59.41</td>\n      <td>3441.99</td>\n      <td>9.83</td>\n      <td>12380.0</td>\n      <td>1.65</td>\n      <td>4.82</td>\n      <td>1254.64</td>\n      <td>38.0</td>\n      <td>390757.0</td>\n      <td>-19.02</td>\n      <td>29.15</td>\n    </tr>\n    <tr>\n      <th>3647</th>\n      <td>46.78</td>\n      <td>30.1</td>\n      <td>81.40</td>\n      <td>250000.0</td>\n      <td>81.50</td>\n      <td>3.66</td>\n      <td>0.0</td>\n      <td>4.58</td>\n      <td>55.58</td>\n      <td>3003.66</td>\n      <td>10.47</td>\n      <td>11760.0</td>\n      <td>1.65</td>\n      <td>-6.14</td>\n      <td>1316.74</td>\n      <td>38.0</td>\n      <td>390757.0</td>\n      <td>-19.02</td>\n      <td>29.15</td>\n    </tr>\n    <tr>\n      <th>3648</th>\n      <td>52.75</td>\n      <td>30.4</td>\n      <td>80.61</td>\n      <td>30000.0</td>\n      <td>81.90</td>\n      <td>3.40</td>\n      <td>0.0</td>\n      <td>4.19</td>\n      <td>55.20</td>\n      <td>2680.13</td>\n      <td>10.00</td>\n      <td>11020.0</td>\n      <td>4.54</td>\n      <td>-6.25</td>\n      <td>1214.51</td>\n      <td>38.0</td>\n      <td>390757.0</td>\n      <td>-19.02</td>\n      <td>29.15</td>\n    </tr>\n  </tbody>\n</table>\n<p>3649 rows × 19 columns</p>\n</div>"
     },
     "execution_count": 6,
     "metadata": {},
     "output_type": "execute_result"
    }
   ],
   "source": [
    "knn_imputer = KNNImputer(n_neighbors=1)\n",
    "imputed_data = knn_imputer.fit_transform(data_no_countries)\n",
    "pd.DataFrame(imputed_data, columns=columns[2:])"
   ]
  },
  {
   "cell_type": "markdown",
   "source": [
    "Pipeline v2\n",
    "Because intellij lost all my code :(("
   ],
   "metadata": {
    "collapsed": false
   },
   "id": "860d8ed94825fb12"
  },
  {
   "cell_type": "markdown",
   "source": [
    "Set all groups with all NaNs to 0"
   ],
   "metadata": {
    "collapsed": false
   },
   "id": "a5a5f5cbb45510ea"
  },
  {
   "cell_type": "code",
   "execution_count": 7,
   "outputs": [
    {
     "data": {
      "text/plain": "           Entity  Year  Access to electricity (% of population)   \n0     Afghanistan  2000                                     1.61  \\\n1     Afghanistan  2001                                     4.07   \n2     Afghanistan  2002                                     9.41   \n3     Afghanistan  2003                                    14.74   \n4     Afghanistan  2004                                    20.06   \n...           ...   ...                                      ...   \n3644     Zimbabwe  2016                                    42.56   \n3645     Zimbabwe  2017                                    44.18   \n3646     Zimbabwe  2018                                    45.57   \n3647     Zimbabwe  2019                                    46.78   \n3648     Zimbabwe  2020                                    52.75   \n\n      Access to clean fuels for cooking   \n0                                   6.2  \\\n1                                   7.2   \n2                                   8.2   \n3                                   9.5   \n4                                  10.9   \n...                                 ...   \n3644                               29.8   \n3645                               29.8   \n3646                               29.9   \n3647                               30.1   \n3648                               30.4   \n\n      Renewable-electricity-generating-capacity-per-capita   \n0                                                  9.22     \\\n1                                                  8.86      \n2                                                  8.47      \n3                                                  8.09      \n4                                                  7.75      \n...                                                 ...      \n3644                                              62.88      \n3645                                              62.33      \n3646                                              82.53      \n3647                                              81.40      \n3648                                              80.61      \n\n      Financial flows to developing countries (US $)   \n0                                            20000.0  \\\n1                                           130000.0   \n2                                          3950000.0   \n3                                         25970000.0   \n4                                                NaN   \n...                                              ...   \n3644                                         30000.0   \n3645                                       5570000.0   \n3646                                         10000.0   \n3647                                        250000.0   \n3648                                         30000.0   \n\n      Renewable energy share in the total final energy consumption (%)   \n0                                                 44.99                 \\\n1                                                 45.60                  \n2                                                 37.83                  \n3                                                 36.66                  \n4                                                 44.24                  \n...                                                 ...                  \n3644                                              81.90                  \n3645                                              82.46                  \n3646                                              80.23                  \n3647                                              81.50                  \n3648                                              81.90                  \n\n      Electricity from fossil fuels (TWh)  Electricity from nuclear (TWh)   \n0                                    0.16                             0.0  \\\n1                                    0.09                             0.0   \n2                                    0.13                             0.0   \n3                                    0.31                             0.0   \n4                                    0.33                             0.0   \n...                                   ...                             ...   \n3644                                 3.50                             0.0   \n3645                                 3.05                             0.0   \n3646                                 3.73                             0.0   \n3647                                 3.66                             0.0   \n3648                                 3.40                             0.0   \n\n      Electricity from renewables (TWh)  ...   \n0                                  0.31  ...  \\\n1                                  0.50  ...   \n2                                  0.56  ...   \n3                                  0.63  ...   \n4                                  0.56  ...   \n...                                 ...  ...   \n3644                               3.32  ...   \n3645                               4.30  ...   \n3646                               5.46  ...   \n3647                               4.58  ...   \n3648                               4.19  ...   \n\n      Primary energy consumption per capita (kWh/person)   \n0                                                302.59   \\\n1                                                236.89    \n2                                                210.86    \n3                                                229.97    \n4                                                204.23    \n...                                                 ...    \n3644                                            3227.68    \n3645                                            3068.01    \n3646                                            3441.99    \n3647                                            3003.66    \n3648                                            2680.13    \n\n      Energy intensity level of primary energy (MJ/$2017 PPP GDP)   \n0                                                  1.64            \\\n1                                                  1.74             \n2                                                  1.40             \n3                                                  1.40             \n4                                                  1.20             \n...                                                 ...             \n3644                                              10.00             \n3645                                               9.51             \n3646                                               9.83             \n3647                                              10.47             \n3648                                              10.00             \n\n      Value_co2_emissions_kt_by_country   \n0                                 760.0  \\\n1                                 730.0   \n2                                1030.0   \n3                                1220.0   \n4                                1030.0   \n...                                 ...   \n3644                            11020.0   \n3645                            10340.0   \n3646                            12380.0   \n3647                            11760.0   \n3648                                NaN   \n\n      Renewables (% equivalent primary energy)  gdp_growth  gdp_per_capita   \n0                                          0.0         NaN             NaN  \\\n1                                          0.0         NaN             NaN   \n2                                          0.0         NaN          179.43   \n3                                          0.0        8.83          190.68   \n4                                          0.0        1.41          211.38   \n...                                        ...         ...             ...   \n3644                                       0.0        0.76         1464.59   \n3645                                       0.0        4.71         1235.19   \n3646                                       0.0        4.82         1254.64   \n3647                                       0.0       -6.14         1316.74   \n3648                                       0.0       -6.25         1214.51   \n\n      Density\\n(P/Km2)  Land Area(Km2)   Latitude  Longitude  \n0                 60.0        652230.0  33.939110  67.709953  \n1                 60.0        652230.0  33.939110  67.709953  \n2                 60.0        652230.0  33.939110  67.709953  \n3                 60.0        652230.0  33.939110  67.709953  \n4                 60.0        652230.0  33.939110  67.709953  \n...                ...             ...        ...        ...  \n3644              38.0        390757.0 -19.015438  29.154857  \n3645              38.0        390757.0 -19.015438  29.154857  \n3646              38.0        390757.0 -19.015438  29.154857  \n3647              38.0        390757.0 -19.015438  29.154857  \n3648              38.0        390757.0 -19.015438  29.154857  \n\n[3649 rows x 21 columns]",
      "text/html": "<div>\n<style scoped>\n    .dataframe tbody tr th:only-of-type {\n        vertical-align: middle;\n    }\n\n    .dataframe tbody tr th {\n        vertical-align: top;\n    }\n\n    .dataframe thead th {\n        text-align: right;\n    }\n</style>\n<table border=\"1\" class=\"dataframe\">\n  <thead>\n    <tr style=\"text-align: right;\">\n      <th></th>\n      <th>Entity</th>\n      <th>Year</th>\n      <th>Access to electricity (% of population)</th>\n      <th>Access to clean fuels for cooking</th>\n      <th>Renewable-electricity-generating-capacity-per-capita</th>\n      <th>Financial flows to developing countries (US $)</th>\n      <th>Renewable energy share in the total final energy consumption (%)</th>\n      <th>Electricity from fossil fuels (TWh)</th>\n      <th>Electricity from nuclear (TWh)</th>\n      <th>Electricity from renewables (TWh)</th>\n      <th>...</th>\n      <th>Primary energy consumption per capita (kWh/person)</th>\n      <th>Energy intensity level of primary energy (MJ/$2017 PPP GDP)</th>\n      <th>Value_co2_emissions_kt_by_country</th>\n      <th>Renewables (% equivalent primary energy)</th>\n      <th>gdp_growth</th>\n      <th>gdp_per_capita</th>\n      <th>Density\\n(P/Km2)</th>\n      <th>Land Area(Km2)</th>\n      <th>Latitude</th>\n      <th>Longitude</th>\n    </tr>\n  </thead>\n  <tbody>\n    <tr>\n      <th>0</th>\n      <td>Afghanistan</td>\n      <td>2000</td>\n      <td>1.61</td>\n      <td>6.2</td>\n      <td>9.22</td>\n      <td>20000.0</td>\n      <td>44.99</td>\n      <td>0.16</td>\n      <td>0.0</td>\n      <td>0.31</td>\n      <td>...</td>\n      <td>302.59</td>\n      <td>1.64</td>\n      <td>760.0</td>\n      <td>0.0</td>\n      <td>NaN</td>\n      <td>NaN</td>\n      <td>60.0</td>\n      <td>652230.0</td>\n      <td>33.939110</td>\n      <td>67.709953</td>\n    </tr>\n    <tr>\n      <th>1</th>\n      <td>Afghanistan</td>\n      <td>2001</td>\n      <td>4.07</td>\n      <td>7.2</td>\n      <td>8.86</td>\n      <td>130000.0</td>\n      <td>45.60</td>\n      <td>0.09</td>\n      <td>0.0</td>\n      <td>0.50</td>\n      <td>...</td>\n      <td>236.89</td>\n      <td>1.74</td>\n      <td>730.0</td>\n      <td>0.0</td>\n      <td>NaN</td>\n      <td>NaN</td>\n      <td>60.0</td>\n      <td>652230.0</td>\n      <td>33.939110</td>\n      <td>67.709953</td>\n    </tr>\n    <tr>\n      <th>2</th>\n      <td>Afghanistan</td>\n      <td>2002</td>\n      <td>9.41</td>\n      <td>8.2</td>\n      <td>8.47</td>\n      <td>3950000.0</td>\n      <td>37.83</td>\n      <td>0.13</td>\n      <td>0.0</td>\n      <td>0.56</td>\n      <td>...</td>\n      <td>210.86</td>\n      <td>1.40</td>\n      <td>1030.0</td>\n      <td>0.0</td>\n      <td>NaN</td>\n      <td>179.43</td>\n      <td>60.0</td>\n      <td>652230.0</td>\n      <td>33.939110</td>\n      <td>67.709953</td>\n    </tr>\n    <tr>\n      <th>3</th>\n      <td>Afghanistan</td>\n      <td>2003</td>\n      <td>14.74</td>\n      <td>9.5</td>\n      <td>8.09</td>\n      <td>25970000.0</td>\n      <td>36.66</td>\n      <td>0.31</td>\n      <td>0.0</td>\n      <td>0.63</td>\n      <td>...</td>\n      <td>229.97</td>\n      <td>1.40</td>\n      <td>1220.0</td>\n      <td>0.0</td>\n      <td>8.83</td>\n      <td>190.68</td>\n      <td>60.0</td>\n      <td>652230.0</td>\n      <td>33.939110</td>\n      <td>67.709953</td>\n    </tr>\n    <tr>\n      <th>4</th>\n      <td>Afghanistan</td>\n      <td>2004</td>\n      <td>20.06</td>\n      <td>10.9</td>\n      <td>7.75</td>\n      <td>NaN</td>\n      <td>44.24</td>\n      <td>0.33</td>\n      <td>0.0</td>\n      <td>0.56</td>\n      <td>...</td>\n      <td>204.23</td>\n      <td>1.20</td>\n      <td>1030.0</td>\n      <td>0.0</td>\n      <td>1.41</td>\n      <td>211.38</td>\n      <td>60.0</td>\n      <td>652230.0</td>\n      <td>33.939110</td>\n      <td>67.709953</td>\n    </tr>\n    <tr>\n      <th>...</th>\n      <td>...</td>\n      <td>...</td>\n      <td>...</td>\n      <td>...</td>\n      <td>...</td>\n      <td>...</td>\n      <td>...</td>\n      <td>...</td>\n      <td>...</td>\n      <td>...</td>\n      <td>...</td>\n      <td>...</td>\n      <td>...</td>\n      <td>...</td>\n      <td>...</td>\n      <td>...</td>\n      <td>...</td>\n      <td>...</td>\n      <td>...</td>\n      <td>...</td>\n      <td>...</td>\n    </tr>\n    <tr>\n      <th>3644</th>\n      <td>Zimbabwe</td>\n      <td>2016</td>\n      <td>42.56</td>\n      <td>29.8</td>\n      <td>62.88</td>\n      <td>30000.0</td>\n      <td>81.90</td>\n      <td>3.50</td>\n      <td>0.0</td>\n      <td>3.32</td>\n      <td>...</td>\n      <td>3227.68</td>\n      <td>10.00</td>\n      <td>11020.0</td>\n      <td>0.0</td>\n      <td>0.76</td>\n      <td>1464.59</td>\n      <td>38.0</td>\n      <td>390757.0</td>\n      <td>-19.015438</td>\n      <td>29.154857</td>\n    </tr>\n    <tr>\n      <th>3645</th>\n      <td>Zimbabwe</td>\n      <td>2017</td>\n      <td>44.18</td>\n      <td>29.8</td>\n      <td>62.33</td>\n      <td>5570000.0</td>\n      <td>82.46</td>\n      <td>3.05</td>\n      <td>0.0</td>\n      <td>4.30</td>\n      <td>...</td>\n      <td>3068.01</td>\n      <td>9.51</td>\n      <td>10340.0</td>\n      <td>0.0</td>\n      <td>4.71</td>\n      <td>1235.19</td>\n      <td>38.0</td>\n      <td>390757.0</td>\n      <td>-19.015438</td>\n      <td>29.154857</td>\n    </tr>\n    <tr>\n      <th>3646</th>\n      <td>Zimbabwe</td>\n      <td>2018</td>\n      <td>45.57</td>\n      <td>29.9</td>\n      <td>82.53</td>\n      <td>10000.0</td>\n      <td>80.23</td>\n      <td>3.73</td>\n      <td>0.0</td>\n      <td>5.46</td>\n      <td>...</td>\n      <td>3441.99</td>\n      <td>9.83</td>\n      <td>12380.0</td>\n      <td>0.0</td>\n      <td>4.82</td>\n      <td>1254.64</td>\n      <td>38.0</td>\n      <td>390757.0</td>\n      <td>-19.015438</td>\n      <td>29.154857</td>\n    </tr>\n    <tr>\n      <th>3647</th>\n      <td>Zimbabwe</td>\n      <td>2019</td>\n      <td>46.78</td>\n      <td>30.1</td>\n      <td>81.40</td>\n      <td>250000.0</td>\n      <td>81.50</td>\n      <td>3.66</td>\n      <td>0.0</td>\n      <td>4.58</td>\n      <td>...</td>\n      <td>3003.66</td>\n      <td>10.47</td>\n      <td>11760.0</td>\n      <td>0.0</td>\n      <td>-6.14</td>\n      <td>1316.74</td>\n      <td>38.0</td>\n      <td>390757.0</td>\n      <td>-19.015438</td>\n      <td>29.154857</td>\n    </tr>\n    <tr>\n      <th>3648</th>\n      <td>Zimbabwe</td>\n      <td>2020</td>\n      <td>52.75</td>\n      <td>30.4</td>\n      <td>80.61</td>\n      <td>30000.0</td>\n      <td>81.90</td>\n      <td>3.40</td>\n      <td>0.0</td>\n      <td>4.19</td>\n      <td>...</td>\n      <td>2680.13</td>\n      <td>10.00</td>\n      <td>NaN</td>\n      <td>0.0</td>\n      <td>-6.25</td>\n      <td>1214.51</td>\n      <td>38.0</td>\n      <td>390757.0</td>\n      <td>-19.015438</td>\n      <td>29.154857</td>\n    </tr>\n  </tbody>\n</table>\n<p>3649 rows × 21 columns</p>\n</div>"
     },
     "execution_count": 7,
     "metadata": {},
     "output_type": "execute_result"
    }
   ],
   "source": [
    "groups_with_all_nans = data.groupby(\"Entity\").apply(lambda grp: grp.isna().all())\n",
    "pd.DataFrame(groups_with_all_nans)\n",
    "axis_a, axis_b = groups_with_all_nans.axes\n",
    "for axi_a in axis_a:\n",
    "    for axi_b in axis_b[1:]:\n",
    "        if groups_with_all_nans.loc[axi_a, axi_b]:\n",
    "            data.loc[data[\"Entity\"] == axi_a, axi_b] = 0\n",
    "pd.DataFrame(data)"
   ],
   "metadata": {
    "collapsed": false,
    "ExecuteTime": {
     "end_time": "2023-09-10T13:50:59.278253800Z",
     "start_time": "2023-09-10T13:50:59.081620Z"
    }
   },
   "id": "ab4cf40da95d7d9d"
  },
  {
   "cell_type": "markdown",
   "source": [
    "Interpolate / Extrapolate missing values"
   ],
   "metadata": {
    "collapsed": false
   },
   "id": "372d6f44209498e4"
  },
  {
   "cell_type": "code",
   "execution_count": 14,
   "outputs": [
    {
     "ename": "ValueError",
     "evalue": "`x` must contain at least 2 elements.",
     "output_type": "error",
     "traceback": [
      "\u001B[1;31m---------------------------------------------------------------------------\u001B[0m",
      "\u001B[1;31mValueError\u001B[0m                                Traceback (most recent call last)",
      "Cell \u001B[1;32mIn[14], line 16\u001B[0m\n\u001B[0;32m     13\u001B[0m     \u001B[38;5;28;01mreturn\u001B[39;00m group\n\u001B[0;32m     15\u001B[0m \u001B[38;5;28;01mfor\u001B[39;00m col \u001B[38;5;129;01min\u001B[39;00m columns[\u001B[38;5;241m2\u001B[39m:\u001B[38;5;241m-\u001B[39m\u001B[38;5;241m2\u001B[39m]:\n\u001B[1;32m---> 16\u001B[0m     \u001B[43mdata\u001B[49m\u001B[38;5;241;43m.\u001B[39;49m\u001B[43mgroupby\u001B[49m\u001B[43m(\u001B[49m\u001B[38;5;124;43m\"\u001B[39;49m\u001B[38;5;124;43mEntity\u001B[39;49m\u001B[38;5;124;43m\"\u001B[39;49m\u001B[43m)\u001B[49m\u001B[43m[\u001B[49m\u001B[43mcol\u001B[49m\u001B[43m]\u001B[49m\u001B[38;5;241;43m.\u001B[39;49m\u001B[43mapply\u001B[49m\u001B[43m(\u001B[49m\u001B[43minterpolate_group\u001B[49m\u001B[43m)\u001B[49m\n\u001B[0;32m     18\u001B[0m pd\u001B[38;5;241m.\u001B[39mDataFrame(data)\n",
      "File \u001B[1;32mC:\\Python311\\Lib\\site-packages\\pandas\\core\\groupby\\generic.py:216\u001B[0m, in \u001B[0;36mSeriesGroupBy.apply\u001B[1;34m(self, func, *args, **kwargs)\u001B[0m\n\u001B[0;32m    210\u001B[0m \u001B[38;5;129m@Appender\u001B[39m(\n\u001B[0;32m    211\u001B[0m     _apply_docs[\u001B[38;5;124m\"\u001B[39m\u001B[38;5;124mtemplate\u001B[39m\u001B[38;5;124m\"\u001B[39m]\u001B[38;5;241m.\u001B[39mformat(\n\u001B[0;32m    212\u001B[0m         \u001B[38;5;28minput\u001B[39m\u001B[38;5;241m=\u001B[39m\u001B[38;5;124m\"\u001B[39m\u001B[38;5;124mseries\u001B[39m\u001B[38;5;124m\"\u001B[39m, examples\u001B[38;5;241m=\u001B[39m_apply_docs[\u001B[38;5;124m\"\u001B[39m\u001B[38;5;124mseries_examples\u001B[39m\u001B[38;5;124m\"\u001B[39m]\n\u001B[0;32m    213\u001B[0m     )\n\u001B[0;32m    214\u001B[0m )\n\u001B[0;32m    215\u001B[0m \u001B[38;5;28;01mdef\u001B[39;00m \u001B[38;5;21mapply\u001B[39m(\u001B[38;5;28mself\u001B[39m, func, \u001B[38;5;241m*\u001B[39margs, \u001B[38;5;241m*\u001B[39m\u001B[38;5;241m*\u001B[39mkwargs) \u001B[38;5;241m-\u001B[39m\u001B[38;5;241m>\u001B[39m Series:\n\u001B[1;32m--> 216\u001B[0m     \u001B[38;5;28;01mreturn\u001B[39;00m \u001B[38;5;28;43msuper\u001B[39;49m\u001B[43m(\u001B[49m\u001B[43m)\u001B[49m\u001B[38;5;241;43m.\u001B[39;49m\u001B[43mapply\u001B[49m\u001B[43m(\u001B[49m\u001B[43mfunc\u001B[49m\u001B[43m,\u001B[49m\u001B[43m \u001B[49m\u001B[38;5;241;43m*\u001B[39;49m\u001B[43margs\u001B[49m\u001B[43m,\u001B[49m\u001B[43m \u001B[49m\u001B[38;5;241;43m*\u001B[39;49m\u001B[38;5;241;43m*\u001B[39;49m\u001B[43mkwargs\u001B[49m\u001B[43m)\u001B[49m\n",
      "File \u001B[1;32mC:\\Python311\\Lib\\site-packages\\pandas\\core\\groupby\\groupby.py:1353\u001B[0m, in \u001B[0;36mGroupBy.apply\u001B[1;34m(self, func, *args, **kwargs)\u001B[0m\n\u001B[0;32m   1351\u001B[0m \u001B[38;5;28;01mwith\u001B[39;00m option_context(\u001B[38;5;124m\"\u001B[39m\u001B[38;5;124mmode.chained_assignment\u001B[39m\u001B[38;5;124m\"\u001B[39m, \u001B[38;5;28;01mNone\u001B[39;00m):\n\u001B[0;32m   1352\u001B[0m     \u001B[38;5;28;01mtry\u001B[39;00m:\n\u001B[1;32m-> 1353\u001B[0m         result \u001B[38;5;241m=\u001B[39m \u001B[38;5;28;43mself\u001B[39;49m\u001B[38;5;241;43m.\u001B[39;49m\u001B[43m_python_apply_general\u001B[49m\u001B[43m(\u001B[49m\u001B[43mf\u001B[49m\u001B[43m,\u001B[49m\u001B[43m \u001B[49m\u001B[38;5;28;43mself\u001B[39;49m\u001B[38;5;241;43m.\u001B[39;49m\u001B[43m_selected_obj\u001B[49m\u001B[43m)\u001B[49m\n\u001B[0;32m   1354\u001B[0m     \u001B[38;5;28;01mexcept\u001B[39;00m \u001B[38;5;167;01mTypeError\u001B[39;00m:\n\u001B[0;32m   1355\u001B[0m         \u001B[38;5;66;03m# gh-20949\u001B[39;00m\n\u001B[0;32m   1356\u001B[0m         \u001B[38;5;66;03m# try again, with .apply acting as a filtering\u001B[39;00m\n\u001B[1;32m   (...)\u001B[0m\n\u001B[0;32m   1360\u001B[0m         \u001B[38;5;66;03m# fails on *some* columns, e.g. a numeric operation\u001B[39;00m\n\u001B[0;32m   1361\u001B[0m         \u001B[38;5;66;03m# on a string grouper column\u001B[39;00m\n\u001B[0;32m   1363\u001B[0m         \u001B[38;5;28;01mreturn\u001B[39;00m \u001B[38;5;28mself\u001B[39m\u001B[38;5;241m.\u001B[39m_python_apply_general(f, \u001B[38;5;28mself\u001B[39m\u001B[38;5;241m.\u001B[39m_obj_with_exclusions)\n",
      "File \u001B[1;32mC:\\Python311\\Lib\\site-packages\\pandas\\core\\groupby\\groupby.py:1402\u001B[0m, in \u001B[0;36mGroupBy._python_apply_general\u001B[1;34m(self, f, data, not_indexed_same, is_transform, is_agg)\u001B[0m\n\u001B[0;32m   1367\u001B[0m \u001B[38;5;129m@final\u001B[39m\n\u001B[0;32m   1368\u001B[0m \u001B[38;5;28;01mdef\u001B[39;00m \u001B[38;5;21m_python_apply_general\u001B[39m(\n\u001B[0;32m   1369\u001B[0m     \u001B[38;5;28mself\u001B[39m,\n\u001B[1;32m   (...)\u001B[0m\n\u001B[0;32m   1374\u001B[0m     is_agg: \u001B[38;5;28mbool\u001B[39m \u001B[38;5;241m=\u001B[39m \u001B[38;5;28;01mFalse\u001B[39;00m,\n\u001B[0;32m   1375\u001B[0m ) \u001B[38;5;241m-\u001B[39m\u001B[38;5;241m>\u001B[39m NDFrameT:\n\u001B[0;32m   1376\u001B[0m \u001B[38;5;250m    \u001B[39m\u001B[38;5;124;03m\"\"\"\u001B[39;00m\n\u001B[0;32m   1377\u001B[0m \u001B[38;5;124;03m    Apply function f in python space\u001B[39;00m\n\u001B[0;32m   1378\u001B[0m \n\u001B[1;32m   (...)\u001B[0m\n\u001B[0;32m   1400\u001B[0m \u001B[38;5;124;03m        data after applying f\u001B[39;00m\n\u001B[0;32m   1401\u001B[0m \u001B[38;5;124;03m    \"\"\"\u001B[39;00m\n\u001B[1;32m-> 1402\u001B[0m     values, mutated \u001B[38;5;241m=\u001B[39m \u001B[38;5;28;43mself\u001B[39;49m\u001B[38;5;241;43m.\u001B[39;49m\u001B[43mgrouper\u001B[49m\u001B[38;5;241;43m.\u001B[39;49m\u001B[43mapply\u001B[49m\u001B[43m(\u001B[49m\u001B[43mf\u001B[49m\u001B[43m,\u001B[49m\u001B[43m \u001B[49m\u001B[43mdata\u001B[49m\u001B[43m,\u001B[49m\u001B[43m \u001B[49m\u001B[38;5;28;43mself\u001B[39;49m\u001B[38;5;241;43m.\u001B[39;49m\u001B[43maxis\u001B[49m\u001B[43m)\u001B[49m\n\u001B[0;32m   1403\u001B[0m     \u001B[38;5;28;01mif\u001B[39;00m not_indexed_same \u001B[38;5;129;01mis\u001B[39;00m \u001B[38;5;28;01mNone\u001B[39;00m:\n\u001B[0;32m   1404\u001B[0m         not_indexed_same \u001B[38;5;241m=\u001B[39m mutated\n",
      "File \u001B[1;32mC:\\Python311\\Lib\\site-packages\\pandas\\core\\groupby\\ops.py:767\u001B[0m, in \u001B[0;36mBaseGrouper.apply\u001B[1;34m(self, f, data, axis)\u001B[0m\n\u001B[0;32m    765\u001B[0m \u001B[38;5;66;03m# group might be modified\u001B[39;00m\n\u001B[0;32m    766\u001B[0m group_axes \u001B[38;5;241m=\u001B[39m group\u001B[38;5;241m.\u001B[39maxes\n\u001B[1;32m--> 767\u001B[0m res \u001B[38;5;241m=\u001B[39m \u001B[43mf\u001B[49m\u001B[43m(\u001B[49m\u001B[43mgroup\u001B[49m\u001B[43m)\u001B[49m\n\u001B[0;32m    768\u001B[0m \u001B[38;5;28;01mif\u001B[39;00m \u001B[38;5;129;01mnot\u001B[39;00m mutated \u001B[38;5;129;01mand\u001B[39;00m \u001B[38;5;129;01mnot\u001B[39;00m _is_indexed_like(res, group_axes, axis):\n\u001B[0;32m    769\u001B[0m     mutated \u001B[38;5;241m=\u001B[39m \u001B[38;5;28;01mTrue\u001B[39;00m\n",
      "Cell \u001B[1;32mIn[14], line 7\u001B[0m, in \u001B[0;36minterpolate_group\u001B[1;34m(group)\u001B[0m\n\u001B[0;32m      5\u001B[0m x \u001B[38;5;241m=\u001B[39m x_values[mask]\n\u001B[0;32m      6\u001B[0m y \u001B[38;5;241m=\u001B[39m group\u001B[38;5;241m.\u001B[39mdropna()\u001B[38;5;241m.\u001B[39mvalues\n\u001B[1;32m----> 7\u001B[0m cs \u001B[38;5;241m=\u001B[39m \u001B[43msp\u001B[49m\u001B[38;5;241;43m.\u001B[39;49m\u001B[43minterpolate\u001B[49m\u001B[38;5;241;43m.\u001B[39;49m\u001B[43mCubicSpline\u001B[49m\u001B[43m(\u001B[49m\u001B[43mx\u001B[49m\u001B[43m,\u001B[49m\u001B[43m \u001B[49m\u001B[43my\u001B[49m\u001B[43m,\u001B[49m\u001B[43m \u001B[49m\u001B[43mbc_type\u001B[49m\u001B[38;5;241;43m=\u001B[39;49m\u001B[38;5;124;43m'\u001B[39;49m\u001B[38;5;124;43mnot-a-knot\u001B[39;49m\u001B[38;5;124;43m'\u001B[39;49m\u001B[43m,\u001B[49m\u001B[43m \u001B[49m\u001B[43mextrapolate\u001B[49m\u001B[38;5;241;43m=\u001B[39;49m\u001B[38;5;28;43;01mTrue\u001B[39;49;00m\u001B[43m)\u001B[49m\n\u001B[0;32m      9\u001B[0m \u001B[38;5;66;03m# Interpolate missing values and replace them in the group\u001B[39;00m\n\u001B[0;32m     10\u001B[0m group\u001B[38;5;241m.\u001B[39mloc[mask] \u001B[38;5;241m=\u001B[39m cs(x_values[mask])\n",
      "File \u001B[1;32mC:\\Python311\\Lib\\site-packages\\scipy\\interpolate\\_cubic.py:636\u001B[0m, in \u001B[0;36mCubicSpline.__init__\u001B[1;34m(self, x, y, axis, bc_type, extrapolate)\u001B[0m\n\u001B[0;32m    635\u001B[0m \u001B[38;5;28;01mdef\u001B[39;00m \u001B[38;5;21m__init__\u001B[39m(\u001B[38;5;28mself\u001B[39m, x, y, axis\u001B[38;5;241m=\u001B[39m\u001B[38;5;241m0\u001B[39m, bc_type\u001B[38;5;241m=\u001B[39m\u001B[38;5;124m'\u001B[39m\u001B[38;5;124mnot-a-knot\u001B[39m\u001B[38;5;124m'\u001B[39m, extrapolate\u001B[38;5;241m=\u001B[39m\u001B[38;5;28;01mNone\u001B[39;00m):\n\u001B[1;32m--> 636\u001B[0m     x, dx, y, axis, _ \u001B[38;5;241m=\u001B[39m \u001B[43mprepare_input\u001B[49m\u001B[43m(\u001B[49m\u001B[43mx\u001B[49m\u001B[43m,\u001B[49m\u001B[43m \u001B[49m\u001B[43my\u001B[49m\u001B[43m,\u001B[49m\u001B[43m \u001B[49m\u001B[43maxis\u001B[49m\u001B[43m)\u001B[49m\n\u001B[0;32m    637\u001B[0m     n \u001B[38;5;241m=\u001B[39m \u001B[38;5;28mlen\u001B[39m(x)\n\u001B[0;32m    639\u001B[0m     bc, y \u001B[38;5;241m=\u001B[39m \u001B[38;5;28mself\u001B[39m\u001B[38;5;241m.\u001B[39m_validate_bc(bc_type, y, y\u001B[38;5;241m.\u001B[39mshape[\u001B[38;5;241m1\u001B[39m:], axis)\n",
      "File \u001B[1;32mC:\\Python311\\Lib\\site-packages\\scipy\\interpolate\\_cubic.py:46\u001B[0m, in \u001B[0;36mprepare_input\u001B[1;34m(x, y, axis, dydx)\u001B[0m\n\u001B[0;32m     44\u001B[0m     \u001B[38;5;28;01mraise\u001B[39;00m \u001B[38;5;167;01mValueError\u001B[39;00m(\u001B[38;5;124m\"\u001B[39m\u001B[38;5;124m`x` must be 1-dimensional.\u001B[39m\u001B[38;5;124m\"\u001B[39m)\n\u001B[0;32m     45\u001B[0m \u001B[38;5;28;01mif\u001B[39;00m x\u001B[38;5;241m.\u001B[39mshape[\u001B[38;5;241m0\u001B[39m] \u001B[38;5;241m<\u001B[39m \u001B[38;5;241m2\u001B[39m:\n\u001B[1;32m---> 46\u001B[0m     \u001B[38;5;28;01mraise\u001B[39;00m \u001B[38;5;167;01mValueError\u001B[39;00m(\u001B[38;5;124m\"\u001B[39m\u001B[38;5;124m`x` must contain at least 2 elements.\u001B[39m\u001B[38;5;124m\"\u001B[39m)\n\u001B[0;32m     47\u001B[0m \u001B[38;5;28;01mif\u001B[39;00m x\u001B[38;5;241m.\u001B[39mshape[\u001B[38;5;241m0\u001B[39m] \u001B[38;5;241m!=\u001B[39m y\u001B[38;5;241m.\u001B[39mshape[axis]:\n\u001B[0;32m     48\u001B[0m     \u001B[38;5;28;01mraise\u001B[39;00m \u001B[38;5;167;01mValueError\u001B[39;00m(\u001B[38;5;124m\"\u001B[39m\u001B[38;5;124mThe length of `y` along `axis`=\u001B[39m\u001B[38;5;132;01m{}\u001B[39;00m\u001B[38;5;124m doesn\u001B[39m\u001B[38;5;124m'\u001B[39m\u001B[38;5;124mt \u001B[39m\u001B[38;5;124m\"\u001B[39m\n\u001B[0;32m     49\u001B[0m                      \u001B[38;5;124m\"\u001B[39m\u001B[38;5;124mmatch the length of `x`\u001B[39m\u001B[38;5;124m\"\u001B[39m\u001B[38;5;241m.\u001B[39mformat(axis))\n",
      "\u001B[1;31mValueError\u001B[0m: `x` must contain at least 2 elements."
     ]
    }
   ],
   "source": [
    "def interpolate_group(group):\n",
    "    x_values = np.arange(len(group))\n",
    "    # Filter NaN values and interpolate using cubic spline\n",
    "    mask = ~group.isna()\n",
    "    x = x_values[mask]\n",
    "    y = group.dropna().values\n",
    "    cs = sp.interpolate.CubicSpline(x, y, bc_type='not-a-knot', extrapolate=True)\n",
    "\n",
    "    # Interpolate missing values and replace them in the group\n",
    "    group.loc[mask] = cs(x_values[mask])\n",
    "\n",
    "\n",
    "    return group\n",
    "\n",
    "for col in columns[2:-2]:\n",
    "    data.groupby(\"Entity\")[col].apply(interpolate_group)\n",
    "    \n",
    "pd.DataFrame(data)"
   ],
   "metadata": {
    "collapsed": false,
    "ExecuteTime": {
     "end_time": "2023-09-10T13:51:40.296264300Z",
     "start_time": "2023-09-10T13:51:40.213952400Z"
    }
   },
   "id": "c2574506096d3cd9"
  },
  {
   "cell_type": "markdown",
   "source": [
    "Count the number of zeros"
   ],
   "metadata": {
    "collapsed": false
   },
   "id": "e799f6da6f3d4ca0"
  },
  {
   "cell_type": "code",
   "execution_count": null,
   "outputs": [],
   "source": [
    "num_zeros = (data == 0).sum() * 100 / len(data)\n",
    "print(num_zeros)"
   ],
   "metadata": {
    "collapsed": false,
    "ExecuteTime": {
     "start_time": "2023-09-10T13:50:59.663962Z"
    }
   },
   "id": "8c67ae1ba0add28"
  },
  {
   "cell_type": "markdown",
   "source": [
    "Remove Columns with more than 20% zeros as they cannot be good reference for the entire set"
   ],
   "metadata": {
    "collapsed": false
   },
   "id": "3c5e7e50eb6493f3"
  },
  {
   "cell_type": "code",
   "execution_count": null,
   "outputs": [],
   "source": [
    "data.drop('Electricity from nuclear (TWh)', axis=1)\n",
    "pd.DataFrame(data)"
   ],
   "metadata": {
    "collapsed": false,
    "ExecuteTime": {
     "start_time": "2023-09-10T13:50:59.664961900Z"
    }
   },
   "id": "8fab233589876f5"
  }
 ],
 "metadata": {
  "kernelspec": {
   "display_name": "Python 3",
   "language": "python",
   "name": "python3"
  },
  "language_info": {
   "codemirror_mode": {
    "name": "ipython",
    "version": 3
   },
   "file_extension": ".py",
   "mimetype": "text/x-python",
   "name": "python",
   "nbconvert_exporter": "python",
   "pygments_lexer": "ipython3",
   "version": "3.11.0"
  }
 },
 "nbformat": 4,
 "nbformat_minor": 5
}
