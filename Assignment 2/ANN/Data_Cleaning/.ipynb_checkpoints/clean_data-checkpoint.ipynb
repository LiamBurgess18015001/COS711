{
 "cells": [
  {
   "cell_type": "markdown",
   "source": [
    "Import Packages"
   ],
   "metadata": {
    "collapsed": false
   },
   "id": "bbd58c43f5a5d08b"
  },
  {
   "cell_type": "code",
   "execution_count": 64,
   "outputs": [],
   "source": [
    "import pandas as pd\n",
    "import numpy as np\n",
    "from pyampute.exploration.mcar_statistical_tests import MCARTest\n",
    "from sklearn.impute import KNNImputer"
   ],
   "metadata": {
    "collapsed": false,
    "ExecuteTime": {
     "end_time": "2023-09-09T12:31:05.393324Z",
     "start_time": "2023-09-09T12:31:05.383802100Z"
    }
   },
   "id": "cc1469e2a7f7668d"
  },
  {
   "cell_type": "markdown",
   "source": [
    "Read Data and format numbers"
   ],
   "metadata": {
    "collapsed": false
   },
   "id": "4f38bd9173a263ba"
  },
  {
   "cell_type": "code",
   "execution_count": 65,
   "outputs": [],
   "source": [
    "columns=['Entity', 'Year', 'Access to electricity (% of population)', 'Access to clean fuels for cooking', 'Renewable-electricity-generating-capacity-per-capita', 'Financial flows to developing countries (US $)', 'Renewable energy share in the total final energy consumption (%)', 'Electricity from fossil fuels (TWh)', 'Electricity from nuclear (TWh)', 'Electricity from renewables (TWh)', 'Low-carbon electricity (% electricity)', 'Primary energy consumption per capita (kWh/person)', 'Energy intensity level of primary energy (MJ/$2017 PPP GDP)', 'Value_co2_emissions_kt_by_country', 'Renewables (% equivalent primary energy)', 'gdp_growth', 'gdp_per_capita', 'Density\\\\n(P/Km2)', 'Land Area(Km2)', 'Latitude', 'Longitude']\n",
    "\n",
    "def convert_to_float(value):\n",
    "    if isinstance(value, str) and ',' in value:\n",
    "        return float(value.replace(',', '.'))\n",
    "    return value\n",
    "\n",
    "data = pd.read_csv('./co2_emissions/emission_data.csv', converters={'Density\\\\n(P/Km2)': convert_to_float})\n",
    "pd.DataFrame(data)"
   ],
   "metadata": {
    "collapsed": false,
    "ExecuteTime": {
     "end_time": "2023-09-09T12:31:05.999437100Z",
     "start_time": "2023-09-09T12:31:05.985813700Z"
    }
   },
   "id": "3ff9f8b30f869751"
  },
  {
   "cell_type": "markdown",
   "source": [
    "Determine Number of zeros per column"
   ],
   "metadata": {
    "collapsed": false
   },
   "id": "618be693d72cfced"
  },
  {
   "cell_type": "code",
   "execution_count": 66,
   "outputs": [],
   "source": [
    "num_zeros = (data == 0).sum()*100 / len(data)\n",
    "print(num_zeros)"
   ],
   "metadata": {
    "collapsed": false,
    "ExecuteTime": {
     "end_time": "2023-09-09T12:31:06.892752500Z",
     "start_time": "2023-09-09T12:31:06.879522500Z"
    }
   },
   "id": "6e1fdafc81052788"
  },
  {
   "cell_type": "markdown",
   "source": [
    "Determine the number of NaNs"
   ],
   "metadata": {
    "collapsed": false
   },
   "id": "1b91ebd2382612be"
  },
  {
   "cell_type": "code",
   "execution_count": 67,
   "outputs": [],
   "source": [
    "nan_counts = data.isna().sum() *100 / len(data)\n",
    "print(nan_counts)"
   ],
   "metadata": {
    "collapsed": false,
    "ExecuteTime": {
     "end_time": "2023-09-09T12:31:07.845513100Z",
     "start_time": "2023-09-09T12:31:07.815703500Z"
    }
   },
   "id": "64a2f3a403433cc2"
  },
  {
   "cell_type": "markdown",
   "source": [
    "Remove Columns with more than 20% zeros as they cannot be good reference for the entire set"
   ],
   "metadata": {
    "collapsed": false
   },
   "id": "a157b8717c59149b"
  },
  {
   "cell_type": "code",
   "execution_count": 68,
   "outputs": [
    {
     "data": {
      "text/plain": "      Access to electricity (% of population)   \n0                                        1.61  \\\n1                                        4.07   \n2                                        9.41   \n3                                       14.74   \n4                                       20.06   \n...                                       ...   \n3644                                    42.56   \n3645                                    44.18   \n3646                                    45.57   \n3647                                    46.78   \n3648                                    52.75   \n\n      Access to clean fuels for cooking   \n0                                   6.2  \\\n1                                   7.2   \n2                                   8.2   \n3                                   9.5   \n4                                  10.9   \n...                                 ...   \n3644                               29.8   \n3645                               29.8   \n3646                               29.9   \n3647                               30.1   \n3648                               30.4   \n\n      Renewable-electricity-generating-capacity-per-capita   \n0                                                  9.22     \\\n1                                                  8.86      \n2                                                  8.47      \n3                                                  8.09      \n4                                                  7.75      \n...                                                 ...      \n3644                                              62.88      \n3645                                              62.33      \n3646                                              82.53      \n3647                                              81.40      \n3648                                              80.61      \n\n      Financial flows to developing countries (US $)   \n0                                            20000.0  \\\n1                                           130000.0   \n2                                          3950000.0   \n3                                         25970000.0   \n4                                                NaN   \n...                                              ...   \n3644                                         30000.0   \n3645                                       5570000.0   \n3646                                         10000.0   \n3647                                        250000.0   \n3648                                         30000.0   \n\n      Renewable energy share in the total final energy consumption (%)   \n0                                                 44.99                 \\\n1                                                 45.60                  \n2                                                 37.83                  \n3                                                 36.66                  \n4                                                 44.24                  \n...                                                 ...                  \n3644                                              81.90                  \n3645                                              82.46                  \n3646                                              80.23                  \n3647                                              81.50                  \n3648                                              81.90                  \n\n      Electricity from fossil fuels (TWh)  Electricity from renewables (TWh)   \n0                                    0.16                               0.31  \\\n1                                    0.09                               0.50   \n2                                    0.13                               0.56   \n3                                    0.31                               0.63   \n4                                    0.33                               0.56   \n...                                   ...                                ...   \n3644                                 3.50                               3.32   \n3645                                 3.05                               4.30   \n3646                                 3.73                               5.46   \n3647                                 3.66                               4.58   \n3648                                 3.40                               4.19   \n\n      Low-carbon electricity (% electricity)   \n0                                      65.96  \\\n1                                      84.75   \n2                                      81.16   \n3                                      67.02   \n4                                      62.92   \n...                                      ...   \n3644                                   48.68   \n3645                                   58.50   \n3646                                   59.41   \n3647                                   55.58   \n3648                                   55.20   \n\n      Primary energy consumption per capita (kWh/person)   \n0                                                302.59   \\\n1                                                236.89    \n2                                                210.86    \n3                                                229.97    \n4                                                204.23    \n...                                                 ...    \n3644                                            3227.68    \n3645                                            3068.01    \n3646                                            3441.99    \n3647                                            3003.66    \n3648                                            2680.13    \n\n      Energy intensity level of primary energy (MJ/$2017 PPP GDP)   \n0                                                  1.64            \\\n1                                                  1.74             \n2                                                  1.40             \n3                                                  1.40             \n4                                                  1.20             \n...                                                 ...             \n3644                                              10.00             \n3645                                               9.51             \n3646                                               9.83             \n3647                                              10.47             \n3648                                              10.00             \n\n      Value_co2_emissions_kt_by_country   \n0                                 760.0  \\\n1                                 730.0   \n2                                1030.0   \n3                                1220.0   \n4                                1030.0   \n...                                 ...   \n3644                            11020.0   \n3645                            10340.0   \n3646                            12380.0   \n3647                            11760.0   \n3648                                NaN   \n\n      Renewables (% equivalent primary energy)  gdp_growth  gdp_per_capita   \n0                                          NaN         NaN             NaN  \\\n1                                          NaN         NaN             NaN   \n2                                          NaN         NaN          179.43   \n3                                          NaN        8.83          190.68   \n4                                          NaN        1.41          211.38   \n...                                        ...         ...             ...   \n3644                                       NaN        0.76         1464.59   \n3645                                       NaN        4.71         1235.19   \n3646                                       NaN        4.82         1254.64   \n3647                                       NaN       -6.14         1316.74   \n3648                                       NaN       -6.25         1214.51   \n\n     Density\\n(P/Km2)  Land Area(Km2)  Latitude  Longitude  \n0               60.00        652230.0     33.94      67.71  \n1               60.00        652230.0     33.94      67.71  \n2               60.00        652230.0     33.94      67.71  \n3               60.00        652230.0     33.94      67.71  \n4               60.00        652230.0     33.94      67.71  \n...               ...             ...       ...        ...  \n3644            38.00        390757.0    -19.02      29.15  \n3645            38.00        390757.0    -19.02      29.15  \n3646            38.00        390757.0    -19.02      29.15  \n3647            38.00        390757.0    -19.02      29.15  \n3648            38.00        390757.0    -19.02      29.15  \n\n[3649 rows x 18 columns]",
      "text/html": "<div>\n<style scoped>\n    .dataframe tbody tr th:only-of-type {\n        vertical-align: middle;\n    }\n\n    .dataframe tbody tr th {\n        vertical-align: top;\n    }\n\n    .dataframe thead th {\n        text-align: right;\n    }\n</style>\n<table border=\"1\" class=\"dataframe\">\n  <thead>\n    <tr style=\"text-align: right;\">\n      <th></th>\n      <th>Access to electricity (% of population)</th>\n      <th>Access to clean fuels for cooking</th>\n      <th>Renewable-electricity-generating-capacity-per-capita</th>\n      <th>Financial flows to developing countries (US $)</th>\n      <th>Renewable energy share in the total final energy consumption (%)</th>\n      <th>Electricity from fossil fuels (TWh)</th>\n      <th>Electricity from renewables (TWh)</th>\n      <th>Low-carbon electricity (% electricity)</th>\n      <th>Primary energy consumption per capita (kWh/person)</th>\n      <th>Energy intensity level of primary energy (MJ/$2017 PPP GDP)</th>\n      <th>Value_co2_emissions_kt_by_country</th>\n      <th>Renewables (% equivalent primary energy)</th>\n      <th>gdp_growth</th>\n      <th>gdp_per_capita</th>\n      <th>Density\\n(P/Km2)</th>\n      <th>Land Area(Km2)</th>\n      <th>Latitude</th>\n      <th>Longitude</th>\n    </tr>\n  </thead>\n  <tbody>\n    <tr>\n      <th>0</th>\n      <td>1.61</td>\n      <td>6.2</td>\n      <td>9.22</td>\n      <td>20000.0</td>\n      <td>44.99</td>\n      <td>0.16</td>\n      <td>0.31</td>\n      <td>65.96</td>\n      <td>302.59</td>\n      <td>1.64</td>\n      <td>760.0</td>\n      <td>NaN</td>\n      <td>NaN</td>\n      <td>NaN</td>\n      <td>60.00</td>\n      <td>652230.0</td>\n      <td>33.94</td>\n      <td>67.71</td>\n    </tr>\n    <tr>\n      <th>1</th>\n      <td>4.07</td>\n      <td>7.2</td>\n      <td>8.86</td>\n      <td>130000.0</td>\n      <td>45.60</td>\n      <td>0.09</td>\n      <td>0.50</td>\n      <td>84.75</td>\n      <td>236.89</td>\n      <td>1.74</td>\n      <td>730.0</td>\n      <td>NaN</td>\n      <td>NaN</td>\n      <td>NaN</td>\n      <td>60.00</td>\n      <td>652230.0</td>\n      <td>33.94</td>\n      <td>67.71</td>\n    </tr>\n    <tr>\n      <th>2</th>\n      <td>9.41</td>\n      <td>8.2</td>\n      <td>8.47</td>\n      <td>3950000.0</td>\n      <td>37.83</td>\n      <td>0.13</td>\n      <td>0.56</td>\n      <td>81.16</td>\n      <td>210.86</td>\n      <td>1.40</td>\n      <td>1030.0</td>\n      <td>NaN</td>\n      <td>NaN</td>\n      <td>179.43</td>\n      <td>60.00</td>\n      <td>652230.0</td>\n      <td>33.94</td>\n      <td>67.71</td>\n    </tr>\n    <tr>\n      <th>3</th>\n      <td>14.74</td>\n      <td>9.5</td>\n      <td>8.09</td>\n      <td>25970000.0</td>\n      <td>36.66</td>\n      <td>0.31</td>\n      <td>0.63</td>\n      <td>67.02</td>\n      <td>229.97</td>\n      <td>1.40</td>\n      <td>1220.0</td>\n      <td>NaN</td>\n      <td>8.83</td>\n      <td>190.68</td>\n      <td>60.00</td>\n      <td>652230.0</td>\n      <td>33.94</td>\n      <td>67.71</td>\n    </tr>\n    <tr>\n      <th>4</th>\n      <td>20.06</td>\n      <td>10.9</td>\n      <td>7.75</td>\n      <td>NaN</td>\n      <td>44.24</td>\n      <td>0.33</td>\n      <td>0.56</td>\n      <td>62.92</td>\n      <td>204.23</td>\n      <td>1.20</td>\n      <td>1030.0</td>\n      <td>NaN</td>\n      <td>1.41</td>\n      <td>211.38</td>\n      <td>60.00</td>\n      <td>652230.0</td>\n      <td>33.94</td>\n      <td>67.71</td>\n    </tr>\n    <tr>\n      <th>...</th>\n      <td>...</td>\n      <td>...</td>\n      <td>...</td>\n      <td>...</td>\n      <td>...</td>\n      <td>...</td>\n      <td>...</td>\n      <td>...</td>\n      <td>...</td>\n      <td>...</td>\n      <td>...</td>\n      <td>...</td>\n      <td>...</td>\n      <td>...</td>\n      <td>...</td>\n      <td>...</td>\n      <td>...</td>\n      <td>...</td>\n    </tr>\n    <tr>\n      <th>3644</th>\n      <td>42.56</td>\n      <td>29.8</td>\n      <td>62.88</td>\n      <td>30000.0</td>\n      <td>81.90</td>\n      <td>3.50</td>\n      <td>3.32</td>\n      <td>48.68</td>\n      <td>3227.68</td>\n      <td>10.00</td>\n      <td>11020.0</td>\n      <td>NaN</td>\n      <td>0.76</td>\n      <td>1464.59</td>\n      <td>38.00</td>\n      <td>390757.0</td>\n      <td>-19.02</td>\n      <td>29.15</td>\n    </tr>\n    <tr>\n      <th>3645</th>\n      <td>44.18</td>\n      <td>29.8</td>\n      <td>62.33</td>\n      <td>5570000.0</td>\n      <td>82.46</td>\n      <td>3.05</td>\n      <td>4.30</td>\n      <td>58.50</td>\n      <td>3068.01</td>\n      <td>9.51</td>\n      <td>10340.0</td>\n      <td>NaN</td>\n      <td>4.71</td>\n      <td>1235.19</td>\n      <td>38.00</td>\n      <td>390757.0</td>\n      <td>-19.02</td>\n      <td>29.15</td>\n    </tr>\n    <tr>\n      <th>3646</th>\n      <td>45.57</td>\n      <td>29.9</td>\n      <td>82.53</td>\n      <td>10000.0</td>\n      <td>80.23</td>\n      <td>3.73</td>\n      <td>5.46</td>\n      <td>59.41</td>\n      <td>3441.99</td>\n      <td>9.83</td>\n      <td>12380.0</td>\n      <td>NaN</td>\n      <td>4.82</td>\n      <td>1254.64</td>\n      <td>38.00</td>\n      <td>390757.0</td>\n      <td>-19.02</td>\n      <td>29.15</td>\n    </tr>\n    <tr>\n      <th>3647</th>\n      <td>46.78</td>\n      <td>30.1</td>\n      <td>81.40</td>\n      <td>250000.0</td>\n      <td>81.50</td>\n      <td>3.66</td>\n      <td>4.58</td>\n      <td>55.58</td>\n      <td>3003.66</td>\n      <td>10.47</td>\n      <td>11760.0</td>\n      <td>NaN</td>\n      <td>-6.14</td>\n      <td>1316.74</td>\n      <td>38.00</td>\n      <td>390757.0</td>\n      <td>-19.02</td>\n      <td>29.15</td>\n    </tr>\n    <tr>\n      <th>3648</th>\n      <td>52.75</td>\n      <td>30.4</td>\n      <td>80.61</td>\n      <td>30000.0</td>\n      <td>81.90</td>\n      <td>3.40</td>\n      <td>4.19</td>\n      <td>55.20</td>\n      <td>2680.13</td>\n      <td>10.00</td>\n      <td>NaN</td>\n      <td>NaN</td>\n      <td>-6.25</td>\n      <td>1214.51</td>\n      <td>38.00</td>\n      <td>390757.0</td>\n      <td>-19.02</td>\n      <td>29.15</td>\n    </tr>\n  </tbody>\n</table>\n<p>3649 rows × 18 columns</p>\n</div>"
     },
     "execution_count": 68,
     "metadata": {},
     "output_type": "execute_result"
    }
   ],
   "source": [
    "data.drop('Electricity from nuclear (TWh)', axis=1)\n",
    "pd.DataFrame(data)"
   ],
   "metadata": {
    "collapsed": false,
    "ExecuteTime": {
     "end_time": "2023-09-09T12:31:08.914411200Z",
     "start_time": "2023-09-09T12:31:08.891713800Z"
    }
   },
   "id": "f3aa40dc02fe40e6"
  },
  {
   "cell_type": "markdown",
   "source": [
    "Can MCAR Methods be used?"
   ],
   "metadata": {
    "collapsed": false
   },
   "id": "ad12e7fb4d39144d"
  },
  {
   "cell_type": "code",
   "execution_count": 69,
   "outputs": [
    {
     "name": "stdout",
     "output_type": "stream",
     "text": [
      "Not MCAR\n"
     ]
    }
   ],
   "source": [
    "data_no_countries = pd.read_table('./co2_emissions/emission_data_modified.csv', sep=',')\n",
    "mt = MCARTest(method=\"little\")\n",
    "if mt.little_mcar_test(data_no_countries) > 0.05:\n",
    "    print('Is MCAR')\n",
    "else:\n",
    "    print('Not MCAR')"
   ],
   "metadata": {
    "collapsed": false,
    "ExecuteTime": {
     "end_time": "2023-09-09T12:31:10.423011200Z",
     "start_time": "2023-09-09T12:31:10.272792800Z"
    }
   },
   "id": "4f7ee96885af5abd"
  },
  {
   "cell_type": "markdown",
   "source": [
    "Data is not MCAR so KNN can't really be used, but it can be a solution to try with the dataset anyways"
   ],
   "metadata": {
    "collapsed": false
   },
   "id": "84bf80ef125991b5"
  },
  {
   "cell_type": "code",
   "execution_count": 70,
   "outputs": [],
   "source": [
    "knn_imputer = KNNImputer(n_neighbors=1)\n",
    "imputed_data = knn_imputer.fit_transform(data_no_countries)\n",
    "pd.DataFrame(imputed_data, columns=columns[2:])"
   ],
   "metadata": {
    "collapsed": false,
    "ExecuteTime": {
     "end_time": "2023-09-09T12:31:12.411774800Z",
     "start_time": "2023-09-09T12:31:11.879777800Z"
    }
   },
   "id": "20b680a7bfcf7164"
  },
  {
   "cell_type": "markdown",
   "source": [
    "Strategy #1: Take the average by country of the other values for the NaNs, if the country is entirely NaN, take the global average"
   ],
   "metadata": {
    "collapsed": false
   },
   "id": "d69ba220bd389b41"
  },
  {
   "cell_type": "code",
   "execution_count": null,
   "outputs": [],
   "source": [
    "# data.replace(0, np.nan)\n",
    "average_per_column = data.groupby('Entity').mean(numeric_only=True)\n",
    "pd.DataFrame(average_per_column)"
   ],
   "metadata": {
    "collapsed": false
   },
   "id": "47f913ab5545089b"
  },
  {
   "cell_type": "markdown",
   "source": [
    "Strategy #2: Take the average by year for NaNs"
   ],
   "metadata": {
    "collapsed": false,
    "ExecuteTime": {
     "end_time": "2023-09-09T12:31:13.921878600Z",
     "start_time": "2023-09-09T12:31:13.912555500Z"
    }
   },
   "id": "8f7f2118486096dd"
  },
  {
   "cell_type": "code",
   "execution_count": null,
   "outputs": [],
   "source": [
    "# data.replace(0, np.nan)\n",
    "average_per_column = data.groupby('Year').mean(numeric_only=True)\n",
    "pd.DataFrame(average_per_column)"
   ],
   "metadata": {
    "collapsed": false
   },
   "id": "94f3f0bb46cc83d4"
  },
  {
   "cell_type": "code",
   "execution_count": null,
   "outputs": [],
   "source": [],
   "metadata": {
    "collapsed": false,
    "ExecuteTime": {
     "start_time": "2023-09-09T12:29:15.663807600Z"
    }
   },
   "id": "c79089694bb3f3eb"
  }
 ],
 "metadata": {
  "kernelspec": {
   "display_name": "Python 3",
   "language": "python",
   "name": "python3"
  },
  "language_info": {
   "codemirror_mode": {
    "name": "ipython",
    "version": 2
   },
   "file_extension": ".py",
   "mimetype": "text/x-python",
   "name": "python",
   "nbconvert_exporter": "python",
   "pygments_lexer": "ipython2",
   "version": "2.7.6"
  }
 },
 "nbformat": 4,
 "nbformat_minor": 5
}
